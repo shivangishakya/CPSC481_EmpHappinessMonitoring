{
 "cells": [
  {
   "cell_type": "code",
   "execution_count": null,
   "id": "0d6f8317",
   "metadata": {},
   "outputs": [],
   "source": [
    "from sklearn.datasets import make_blobs\n",
    "\n",
    "from sklearn import naive_bayes\n",
    "from sklearn.naive_bayes import GaussianNB\n",
    "import category_encoders as ce\n",
    "from sklearn.preprocessing import StandardScaler\n",
    "\n",
    "import numpy as np\n",
    "import pandas as pd"
   ]
  },
  {
   "cell_type": "code",
   "execution_count": null,
   "id": "39f8c14d",
   "metadata": {
    "scrolled": false
   },
   "outputs": [],
   "source": [
    "data_train = pd.read_csv(\"./train.csv\")\n",
    "data_test = pd.read_csv(\"./test.csv\")\n",
    "print(\"Shape of Training Data:\", data_train.shape)\n",
    "print(\"Shape of Test Data:\", data_test.shape)\n",
    "test_EmpId = {}\n",
    "test_EmpId = data_test[\"Employee ID\"]\n",
    "data_train.head()"
   ]
  },
  {
   "cell_type": "code",
   "execution_count": null,
   "id": "469741cd",
   "metadata": {},
   "outputs": [],
   "source": [
    "data_test.head()"
   ]
  },
  {
   "cell_type": "code",
   "execution_count": null,
   "id": "1472cbba",
   "metadata": {},
   "outputs": [],
   "source": [
    "data_train['HappyCond'] = np.where(data_train[\"Happiness\"]>=0.5,1,0)\n",
    "data_train.head()"
   ]
  },
  {
   "cell_type": "code",
   "execution_count": null,
   "id": "ccaffb85",
   "metadata": {},
   "outputs": [],
   "source": [
    "print(data_train.info())\n",
    "print(data_test.info())"
   ]
  },
  {
   "cell_type": "code",
   "execution_count": null,
   "id": "26897f73",
   "metadata": {},
   "outputs": [],
   "source": [
    "import datetime as dt\n",
    "\n",
    "data_train[\"Date of Joining\"] =  pd.to_datetime(data_train[\"Date of Joining\"])\n",
    "data_test[\"Date of Joining\"] =  pd.to_datetime(data_test[\"Date of Joining\"])\n",
    "data_train.dtypes"
   ]
  },
  {
   "cell_type": "code",
   "execution_count": null,
   "id": "3d5c1bcf",
   "metadata": {},
   "outputs": [],
   "source": [
    "dt_today = dt.date.today()\n",
    "data_train[\"today\"]=dt_today\n",
    "data_test[\"today\"]=dt_today\n",
    "data_train.head()"
   ]
  },
  {
   "cell_type": "code",
   "execution_count": null,
   "id": "bf960aa5",
   "metadata": {},
   "outputs": [],
   "source": [
    "data_train[\"today\"] =  pd.to_datetime(data_train[\"today\"])\n",
    "data_test[\"today\"] =  pd.to_datetime(data_test[\"today\"])"
   ]
  },
  {
   "cell_type": "code",
   "execution_count": null,
   "id": "39c73e5f",
   "metadata": {},
   "outputs": [],
   "source": [
    "data_train['tenure'] = data_train['today'] - data_train[\"Date of Joining\"]\n",
    "data_test['tenure'] = data_test['today'] - data_test[\"Date of Joining\"]\n",
    "data_train.head()"
   ]
  },
  {
   "cell_type": "code",
   "execution_count": null,
   "id": "74e9f690",
   "metadata": {},
   "outputs": [],
   "source": [
    "data_train.dtypes"
   ]
  },
  {
   "cell_type": "code",
   "execution_count": null,
   "id": "ef7d1c7c",
   "metadata": {},
   "outputs": [],
   "source": [
    "import warnings\n",
    "warnings.simplefilter(action=\"ignore\", category=FutureWarning)\n",
    "\n",
    "data_train['tenure'] = data_train['tenure'].astype(int)\n",
    "data_test['tenure'] = data_test['tenure'].astype(int)\n",
    "data_train.dtypes"
   ]
  },
  {
   "cell_type": "code",
   "execution_count": null,
   "id": "4666ec7c",
   "metadata": {},
   "outputs": [],
   "source": [
    "data_test.dtypes"
   ]
  },
  {
   "cell_type": "code",
   "execution_count": null,
   "id": "ba58512c",
   "metadata": {},
   "outputs": [],
   "source": [
    "data_train = data_train.drop([\"Employee ID\", \"Date of Joining\", \"today\"], axis=1)\n",
    "data_test = data_test.drop([\"Employee ID\", \"Date of Joining\", \"today\"], axis=1)\n",
    "print(data_train.info())\n",
    "print(data_test.info())"
   ]
  },
  {
   "cell_type": "code",
   "execution_count": null,
   "id": "ebcacb27",
   "metadata": {},
   "outputs": [],
   "source": [
    "# Drop rows where target variable \"Happiness\" is missing.\n",
    "data_train = data_train.dropna(subset=['Happiness'])\n",
    "data_train.info()"
   ]
  },
  {
   "cell_type": "code",
   "execution_count": null,
   "id": "962055ed",
   "metadata": {},
   "outputs": [],
   "source": [
    "# Impute remaining missing values with medians\n",
    "df_train = data_train\n",
    "for col in ['Resource Allocation', 'Mental Fatigue Score']:\n",
    "    df_train[col] = df_train[col].fillna(df_train[col].median())\n",
    "\n",
    "df_train.info()\n",
    "df_train.describe()"
   ]
  },
  {
   "cell_type": "code",
   "execution_count": null,
   "id": "d345b06d",
   "metadata": {},
   "outputs": [],
   "source": [
    "import matplotlib\n",
    "import matplotlib.pyplot as plt\n",
    "import seaborn as sns\n",
    "#%matplotlib inline\n",
    "sns.set(color_codes=True)"
   ]
  },
  {
   "cell_type": "code",
   "execution_count": null,
   "id": "f3078028",
   "metadata": {
    "scrolled": true
   },
   "outputs": [],
   "source": [
    "fig, ax = plt.subplots(nrows=1, ncols=3, sharey=True, figsize=(10,5))\n",
    "sns.countplot(df_train[\"Gender\"], palette=\"winter\", ax=ax[0])\n",
    "sns.countplot(df_train[\"Company Type\"], palette=\"winter\", ax=ax[1])\n",
    "sns.countplot(df_train[\"WFH Setup Available\"], palette=\"winter\", ax=ax[2])\n",
    "plt.tight_layout()\n",
    "plt.show()"
   ]
  },
  {
   "cell_type": "code",
   "execution_count": null,
   "id": "14ffef5c",
   "metadata": {},
   "outputs": [],
   "source": [
    "fig, ax = plt.subplots(nrows=1, ncols=3, sharey=True, figsize=(14,5))\n",
    "sns.boxenplot(x=\"Gender\", y=\"Happiness\", hue=\"Company Type\", data=df_train, palette=\"winter\", linewidth=0.0, ax=ax[0])\n",
    "sns.boxenplot(x=\"Gender\", y=\"Happiness\", hue=\"WFH Setup Available\", data=df_train, palette=\"winter\", linewidth=0.0, ax=ax[1])\n",
    "sns.boxenplot(x=\"WFH Setup Available\", y=\"Happiness\", hue=\"Company Type\", data=df_train, palette=\"winter\", linewidth=0.0, ax=ax[2])\n",
    "plt.tight_layout()\n",
    "plt.show()"
   ]
  },
  {
   "cell_type": "code",
   "execution_count": null,
   "id": "0f1e4460",
   "metadata": {
    "scrolled": false
   },
   "outputs": [],
   "source": [
    "fig, ax = plt.subplots(nrows=1, ncols=3, sharey=True, figsize=(14,5))\n",
    "sns.barplot(x=\"Gender\", y=\"HappyCond\", hue=\"Company Type\", data=df_train, palette=\"winter\", linewidth=0.0, ax=ax[0])\n",
    "sns.barplot(x=\"Gender\", y=\"HappyCond\", hue=\"WFH Setup Available\", data=df_train, palette=\"winter\", linewidth=0.0, ax=ax[1])\n",
    "sns.barplot(x=\"WFH Setup Available\", y=\"HappyCond\", hue=\"Company Type\", data=df_train, palette=\"winter\", linewidth=0.0, ax=ax[2])\n",
    "plt.tight_layout()\n",
    "plt.show()"
   ]
  },
  {
   "cell_type": "code",
   "execution_count": null,
   "id": "063662eb",
   "metadata": {},
   "outputs": [],
   "source": [
    "cont = [\"Happiness\", \"Resource Allocation\", \"Mental Fatigue Score\", \"tenure\"]\n",
    "df_cont = df_train[cont]"
   ]
  },
  {
   "cell_type": "code",
   "execution_count": null,
   "id": "1342fbfe",
   "metadata": {},
   "outputs": [],
   "source": [
    "k = 4\n",
    "fig = plt.figure(figsize=(14,5))\n",
    "# Correlations between each variable\n",
    "corrmat = df_cont.corr()\n",
    "# Take k elements in descending order of coefficient\n",
    "cols = corrmat.nlargest(k, \"Happiness\")[\"Happiness\"].index"
   ]
  },
  {
   "cell_type": "code",
   "execution_count": null,
   "id": "fb3a6e23",
   "metadata": {},
   "outputs": [],
   "source": [
    "fig, ax = plt.subplots(nrows=1, ncols=3, sharey=True, figsize=(14,5))\n",
    "sns.scatterplot(x=\"Mental Fatigue Score\", y=\"Happiness\", hue=\"Gender\", data=df_train, linewidth=0.0, ax=ax[0])\n",
    "sns.scatterplot(x=\"Resource Allocation\", y=\"Happiness\", hue=\"Gender\", data=df_train, linewidth=0.0, ax=ax[1])\n",
    "sns.scatterplot(x=\"tenure\", y=\"Happiness\", hue=\"Gender\", data=df_train, linewidth=0.0, ax=ax[2])\n",
    "plt.tight_layout()\n",
    "plt.show()"
   ]
  },
  {
   "cell_type": "code",
   "execution_count": null,
   "id": "978168b1",
   "metadata": {},
   "outputs": [],
   "source": [
    "fig, ax = plt.subplots(nrows=1, ncols=3, sharey=True, figsize=(14,5))\n",
    "sns.scatterplot(x=\"Mental Fatigue Score\", y=\"Happiness\", hue=\"WFH Setup Available\", data=df_train, linewidth=0.0, ax=ax[0])\n",
    "sns.scatterplot(x=\"Resource Allocation\", y=\"Happiness\", hue=\"WFH Setup Available\", data=df_train, linewidth=0.0, ax=ax[1])\n",
    "sns.scatterplot(x=\"tenure\", y=\"Happiness\", hue=\"WFH Setup Available\", data=df_train, linewidth=0.0, ax=ax[2])\n",
    "plt.tight_layout()\n",
    "plt.show()"
   ]
  },
  {
   "cell_type": "code",
   "execution_count": null,
   "id": "133bac6f",
   "metadata": {},
   "outputs": [],
   "source": [
    "fig, ax = plt.subplots(nrows=1, ncols=3, sharey=True, figsize=(10,5))\n",
    "sns.boxenplot(x=\"Gender\", y=\"Mental Fatigue Score\", data=df_train, palette=\"winter\", linewidth=0.0, ax=ax[0])\n",
    "sns.boxenplot(x=\"Company Type\", y=\"Mental Fatigue Score\", data=df_train, palette=\"winter\", linewidth=0.0, ax=ax[1])\n",
    "sns.boxenplot(x=\"WFH Setup Available\", y=\"Mental Fatigue Score\", data=df_train, palette=\"winter\", linewidth=0.0, ax=ax[2])\n",
    "plt.tight_layout()\n",
    "plt.show()"
   ]
  },
  {
   "cell_type": "code",
   "execution_count": null,
   "id": "61fea470",
   "metadata": {},
   "outputs": [],
   "source": [
    "list_cols = ['Gender','Company Type','WFH Setup Available']\n",
    "\n",
    "ce_ohe = ce.OneHotEncoder(cols=list_cols)\n",
    "df_train = ce_ohe.fit_transform(df_train)\n",
    "df_train.head()\n",
    "\n",
    "ce_ohe2 = ce.OneHotEncoder(cols=list_cols)\n",
    "data_test = ce_ohe2.fit_transform(data_test)"
   ]
  },
  {
   "cell_type": "code",
   "execution_count": null,
   "id": "1c248b7f",
   "metadata": {},
   "outputs": [],
   "source": [
    "X = df_train.drop(['Happiness','Gender_2','Company Type_2','WFH Setup Available_2','HappyCond'], axis=1)\n",
    "y = df_train['HappyCond']"
   ]
  },
  {
   "cell_type": "code",
   "execution_count": null,
   "id": "7d7180a5",
   "metadata": {},
   "outputs": [],
   "source": [
    "data_test = data_test.drop(['Gender_2','Company Type_2','WFH Setup Available_2'], axis=1)"
   ]
  },
  {
   "cell_type": "code",
   "execution_count": null,
   "id": "b848408a",
   "metadata": {},
   "outputs": [],
   "source": [
    "from sklearn.preprocessing import scale\n",
    "from sklearn.model_selection import train_test_split\n",
    "\n",
    "# split into train and test\n",
    "X_train, X_test, y_train, y_test = train_test_split(X, y, train_size=0.7,test_size = 0.3, random_state=100)"
   ]
  },
  {
   "cell_type": "code",
   "execution_count": null,
   "id": "c1d86b1d",
   "metadata": {},
   "outputs": [],
   "source": [
    "cols = X.columns\n",
    "X_test.dtypes"
   ]
  },
  {
   "cell_type": "code",
   "execution_count": null,
   "id": "eeb69254",
   "metadata": {},
   "outputs": [],
   "source": [
    "sc = StandardScaler()\n",
    "X_train = sc.fit_transform(X_train)\n",
    "X_test = sc.transform (X_test)"
   ]
  },
  {
   "cell_type": "code",
   "execution_count": null,
   "id": "f5bdc1ce",
   "metadata": {},
   "outputs": [],
   "source": [
    "X_train = pd.DataFrame(X_train)\n",
    "X_test = pd.DataFrame(X_test)"
   ]
  },
  {
   "cell_type": "code",
   "execution_count": null,
   "id": "04577062",
   "metadata": {},
   "outputs": [],
   "source": [
    "X_train.columns = cols\n",
    "X_test.columns = cols"
   ]
  },
  {
   "cell_type": "code",
   "execution_count": null,
   "id": "50225666",
   "metadata": {},
   "outputs": [],
   "source": [
    "# train a Gaussian Naive Bayes classifier on the training set\n",
    "from sklearn.naive_bayes import GaussianNB\n",
    "\n",
    "# instantiate the model\n",
    "gnb = GaussianNB()\n",
    "\n",
    "# fit the model\n",
    "gnb.fit(X_train, y_train)\n",
    "y_pred= gnb.predict(X_test)\n",
    "gnb_pred=gnb.predict_proba(X_test)\n",
    "gnb_pred"
   ]
  },
  {
   "cell_type": "code",
   "execution_count": null,
   "id": "6aeb2769",
   "metadata": {},
   "outputs": [],
   "source": [
    "from sklearn.metrics import accuracy_score\n",
    "\n",
    "print('Model accuracy score: {0:0.4f}'. format(accuracy_score(y_test, y_pred)))"
   ]
  },
  {
   "cell_type": "code",
   "execution_count": null,
   "id": "adf67979",
   "metadata": {},
   "outputs": [],
   "source": [
    "df = pd.DataFrame(gnb_pred)\n",
    "df"
   ]
  },
  {
   "cell_type": "code",
   "execution_count": null,
   "id": "e542f6d1",
   "metadata": {},
   "outputs": [],
   "source": [
    "c = 0\n",
    "happinessLevel = {}\n",
    "for index, row in df.iterrows():\n",
    "    if row[0]> row[1]:\n",
    "        happinessLevel[index]= \"Unhappy\"\n",
    "    else:\n",
    "        happinessLevel[index]= \"Happy\"\n",
    "        c +=1\n",
    "        \n",
    "    print(\"Employee ID - \" +test_EmpId[index]+\" - \" + happinessLevel[index])\n",
    "print (c)"
   ]
  },
  {
   "cell_type": "code",
   "execution_count": null,
   "id": "5a64ab93",
   "metadata": {
    "scrolled": true
   },
   "outputs": [],
   "source": [
    "from sklearn.metrics import confusion_matrix\n",
    "\n",
    "cm = confusion_matrix(y_test, y_pred)\n",
    "\n",
    "print('Confusion matrix\\n\\n', cm)\n",
    "\n",
    "print('\\nTrue Negative(TN) = ', cm[0,0])\n",
    "\n",
    "print('\\nFalse Positives(FP) = ', cm[0,1])\n",
    "\n",
    "print('\\nFalse Negative(FN) = ', cm[1,0])\n",
    "\n",
    "print('\\nTrue Positive(TP) = ', cm[1,1])\n"
   ]
  },
  {
   "cell_type": "code",
   "execution_count": null,
   "id": "eb232841",
   "metadata": {},
   "outputs": [],
   "source": [
    "y_test.value_counts()"
   ]
  },
  {
   "cell_type": "code",
   "execution_count": null,
   "id": "c317832d",
   "metadata": {},
   "outputs": [],
   "source": [
    "fig, ax = plt.subplots(nrows=1, ncols=2, sharey=False, figsize=(10,5))\n",
    "sns.countplot(df_train[\"HappyCond\"], palette=\"winter\", ax=ax[0]).set_title(\"Data for Training Model\")\n",
    "sns.countplot(y_test, palette=\"winter\", ax=ax[1]).set_title(\"Data for Testing Model\")\n",
    "plt.tight_layout()\n",
    "plt.show()\n",
    "print(\"0 : Not Happy\")\n",
    "print(\"1 : Happy\")"
   ]
  },
  {
   "cell_type": "code",
   "execution_count": null,
   "id": "fec5b927",
   "metadata": {},
   "outputs": [],
   "source": [
    "values = y_test.value_counts().keys().tolist()\n",
    "counts = y_test.value_counts().tolist()\n",
    "for i in range(len(values)):\n",
    "    if values[i] == 0:\n",
    "        print(\"Number of 'NOT HAPPY' Employees are: \"+str(counts[i]))\n",
    "    else:\n",
    "        print(\"Number of 'HAPPY' Employees are: \"+str(counts[i]))"
   ]
  }
 ],
 "metadata": {
  "interpreter": {
   "hash": "0a85142cef1ca2f8064386c878dd432306375049b3d9cb139519214cad494882"
  },
  "kernelspec": {
   "display_name": "Python 3 (ipykernel)",
   "language": "python",
   "name": "python3"
  },
  "language_info": {
   "codemirror_mode": {
    "name": "ipython",
    "version": 3
   },
   "file_extension": ".py",
   "mimetype": "text/x-python",
   "name": "python",
   "nbconvert_exporter": "python",
   "pygments_lexer": "ipython3",
   "version": "3.8.12"
  }
 },
 "nbformat": 4,
 "nbformat_minor": 5
}
